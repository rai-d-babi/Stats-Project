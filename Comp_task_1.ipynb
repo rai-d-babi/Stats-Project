{
 "cells": [
  {
   "cell_type": "code",
   "execution_count": 24,
   "metadata": {},
   "outputs": [
    {
     "name": "stdout",
     "output_type": "stream",
     "text": [
      "Linux machine\n"
     ]
    }
   ],
   "source": [
    "import sys\n",
    "import os\n",
    "from pylab import *\n",
    "import numpy as np\n",
    "import matplotlib.pyplot as plt\n",
    "from math import factorial as fact\n",
    "################################################################\n",
    "# Check the system operating system\n",
    "################################################################\n",
    "\n",
    "sys_exec = str(sys.executable)  #location of the python.exe file\n",
    "sys_os = str(sys.platform)      #os of the machine\n",
    "\n",
    "windows = 'win32'\n",
    "linux1 = 'linux'\n",
    "linux2 = 'linux2'\n",
    "mac = 'darwin'\n",
    "\n",
    "if (sys_os == linux1) or (sys_os == linux2):\n",
    "    print('Linux machine')\n",
    "elif sys_os == windows:\n",
    "        print('Windows machine')\n",
    "else:\n",
    "    print('Mac machine')\n",
    "        "
   ]
  },
  {
   "cell_type": "code",
   "execution_count": 50,
   "metadata": {},
   "outputs": [
    {
     "data": {
      "text/plain": [
       "Text(0.5, 1.0, 'Posterior Distribution vs p for n = 100')"
      ]
     },
     "execution_count": 50,
     "metadata": {},
     "output_type": "execute_result"
    },
    {
     "data": {
      "image/png": "[encoded data removed]",
      "text/plain": [
       "<Figure size 432x288 with 4 Axes>"
      ]
     },
     "metadata": {
      "needs_background": "light"
     },
     "output_type": "display_data"
    }
   ],
   "source": [
    "################################################################\n",
    "# Let the experiment be tossing a coin to analsye the fairness\n",
    "#  of the coin with p := probability that the result is heads\n",
    "# in a given toss of the coin.\n",
    "# Goal: Find posterior probability of unknown for the given \n",
    "# information/ data. \n",
    "\n",
    "# We need to compute likelihood (numerator). \n",
    "# Let's assume that the coin is fair (Prior). \n",
    "# (subjective belief). The denominstor is probabilty of the given\n",
    "# data which is 1 in this example. It is very hard to compute.\n",
    "################################################################\n",
    "\n",
    "################################################################\n",
    "# list of number of trials performed of 4 different experiments \n",
    "\n",
    "n = [1, 10, 50, 100]\n",
    "\n",
    "# list of number of heads observed (number of success) on the \n",
    "# corresponding experiment\n",
    "\n",
    "k = [0,3,21,39]\n",
    "\n",
    "# List constaining values of p (probability of sucess)\n",
    "\n",
    "x = 10**-10\n",
    "# empty list for filling prob values\n",
    "p = []\n",
    "\n",
    "# for loop to create list of values of p\n",
    "\n",
    "#for i in range(10):\n",
    "    #p.append(x*10**i)\n",
    "p = [0.1,0.2,0.3,0.4,0.5,0.6,0.7,0.8,0.9]\n",
    "#print(p)\n",
    "# Compute Likelihood\n",
    "# empty list for filling likelihood values\n",
    "like = []\n",
    "\n",
    "for i in range(len(n)):\n",
    "    like.append([])\n",
    "    for j in range(len(p)):\n",
    "        like[i].append(0.5*(fact(n[i])*p[j]**k[i]*(1-p[j])**(n[i]-k[i]))/float(fact(n[i]-k[i])))\n",
    "\n",
    "#convert list object as numpy array\n",
    "like = np.asarray(like)\n",
    "\n",
    "# Sub-plots of posterior distribution of different \n",
    "plt.figure()\n",
    "\n",
    "# linear\n",
    "plt.subplot(221)\n",
    "plt.plot(p, like[0], '-o')\n",
    "plt.title('Posterior Distribution vs p for n = 1')\n",
    "\n",
    "\n",
    "# log\n",
    "plt.subplot(222)\n",
    "plt.plot(p, like[1], '-o')\n",
    "plt.title('Posterior Distribution vs p for n = 10')\n",
    "\n",
    "\n",
    "# symmetric log\n",
    "plt.subplot(223)\n",
    "plt.plot(p, like[2] , '-o')\n",
    "plt.title('Posterior Distribution vs p for n = 50')\n",
    "\n",
    "# logit\n",
    "plt.subplot(224)\n",
    "plt.plot(p, like[3], '-o' )\n",
    "plt.title('Posterior Distribution vs p for n = 100')\n",
    "\n",
    "plt.show()\n",
    "\n"
   ]
  },
  {
   "cell_type": "code",
   "execution_count": 1,
   "metadata": {},
   "outputs": [
    {
     "name": "stdout",
     "output_type": "stream",
     "text": [
      "Collecting package metadata (repodata.json): ...working... done\n",
      "Solving environment: ...working... done\n",
      "\n",
      "## Package Plan ##\n",
      "\n",
      "  environment location: C:\\ProgramData\\Anaconda3\n",
      "\n",
      "  added / updated specs:\n",
      "    - numpy\n",
      "\n",
      "\n",
      "The following packages will be UPDATED:\n",
      "\n",
      "  ca-certificates     anaconda::ca-certificates-2019.5.15-1 --> pkgs/main::ca-certificates-2019.8.28-0\n",
      "  certifi                anaconda::certifi-2019.6.16-py36_1 --> pkgs/main::certifi-2019.9.11-py36_0\n",
      "  conda                       anaconda::conda-4.7.11-py36_0 --> pkgs/main::conda-4.7.12-py36_0\n",
      "\n",
      "The following packages will be SUPERSEDED by a higher-priority channel:\n",
      "\n",
      "  openssl                anaconda::openssl-1.1.1-he774522_0 --> pkgs/main::openssl-1.1.1c-he774522_1\n",
      "\n",
      "\n",
      "Preparing transaction: ...working... done\n",
      "Verifying transaction: ...working... failed\n"
     ]
    },
    {
     "name": "stderr",
     "output_type": "stream",
     "text": [
      "\n",
      "EnvironmentNotWritableError: The current user does not have write permissions to the target environment.\n",
      "  environment location: C:\\ProgramData\\Anaconda3\n",
      "\n",
      "\n"
     ]
    }
   ],
   "source": [
    "# Install a conda package in the current Jupyter kernel\n",
    "import sys\n",
    "!conda install --yes --prefix {sys.prefix} numpy"
   ]
  },
  {
   "cell_type": "code",
   "execution_count": null,
   "metadata": {},
   "outputs": [],
   "source": [
    "import numpy as np"
   ]
  },
  {
   "cell_type": "code",
   "execution_count": null,
   "metadata": {},
   "outputs": [],
   "source": [
    "x "
   ]
  }
 ],
 "metadata": {
  "kernelspec": {
   "display_name": "Python 3",
   "language": "python",
   "name": "python3"
  },
  "language_info": {
   "codemirror_mode": {
    "name": "ipython",
    "version": 3
   },
   "file_extension": ".py",
   "mimetype": "text/x-python",
   "name": "python",
   "nbconvert_exporter": "python",
   "pygments_lexer": "ipython3",
   "version": "3.6.5"
  }
 },
 "nbformat": 4,
 "nbformat_minor": 2
}
