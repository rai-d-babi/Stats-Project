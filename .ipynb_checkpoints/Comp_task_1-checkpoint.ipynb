{
 "cells": [
  {
   "cell_type": "code",
   "execution_count": 3,
   "metadata": {},
   "outputs": [
    {
     "name": "stdout",
     "output_type": "stream",
     "text": [
      "Windows machine\n"
     ]
    },
    {
     "ename": "NameError",
     "evalue": "name 'p' is not defined",
     "output_type": "error",
     "traceback": [
      "\u001b[1;31m---------------------------------------------------------------------------\u001b[0m",
      "\u001b[1;31mNameError\u001b[0m                                 Traceback (most recent call last)",
      "\u001b[1;32m<ipython-input-3-efce2c34c2a2>\u001b[0m in \u001b[0;36m<module>\u001b[1;34m()\u001b[0m\n\u001b[0;32m     64\u001b[0m \u001b[1;32mfor\u001b[0m \u001b[0mi\u001b[0m \u001b[1;32min\u001b[0m \u001b[0mrange\u001b[0m\u001b[1;33m(\u001b[0m\u001b[0mlen\u001b[0m\u001b[1;33m(\u001b[0m\u001b[0mn\u001b[0m\u001b[1;33m)\u001b[0m\u001b[1;33m)\u001b[0m\u001b[1;33m:\u001b[0m\u001b[1;33m\u001b[0m\u001b[0m\n\u001b[0;32m     65\u001b[0m     \u001b[0mpost\u001b[0m\u001b[1;33m.\u001b[0m\u001b[0mappend\u001b[0m\u001b[1;33m(\u001b[0m\u001b[1;33m[\u001b[0m\u001b[1;33m]\u001b[0m\u001b[1;33m)\u001b[0m\u001b[1;33m\u001b[0m\u001b[0m\n\u001b[1;32m---> 66\u001b[1;33m     \u001b[1;32mfor\u001b[0m \u001b[0mj\u001b[0m \u001b[1;32min\u001b[0m \u001b[0mrange\u001b[0m\u001b[1;33m(\u001b[0m\u001b[0mlen\u001b[0m\u001b[1;33m(\u001b[0m\u001b[0mp\u001b[0m\u001b[1;33m)\u001b[0m\u001b[1;33m)\u001b[0m\u001b[1;33m:\u001b[0m\u001b[1;33m\u001b[0m\u001b[0m\n\u001b[0m\u001b[0;32m     67\u001b[0m         \u001b[0mpost\u001b[0m\u001b[1;33m[\u001b[0m\u001b[0mi\u001b[0m\u001b[1;33m]\u001b[0m\u001b[1;33m.\u001b[0m\u001b[0mappend\u001b[0m\u001b[1;33m(\u001b[0m\u001b[1;36m0.5\u001b[0m\u001b[1;33m*\u001b[0m\u001b[1;33m(\u001b[0m\u001b[0mfact\u001b[0m\u001b[1;33m(\u001b[0m\u001b[0mn\u001b[0m\u001b[1;33m[\u001b[0m\u001b[0mi\u001b[0m\u001b[1;33m]\u001b[0m\u001b[1;33m)\u001b[0m\u001b[1;33m*\u001b[0m\u001b[0mtheta\u001b[0m\u001b[1;33m[\u001b[0m\u001b[0mj\u001b[0m\u001b[1;33m]\u001b[0m\u001b[1;33m**\u001b[0m\u001b[0mk\u001b[0m\u001b[1;33m[\u001b[0m\u001b[0mi\u001b[0m\u001b[1;33m]\u001b[0m\u001b[1;33m*\u001b[0m\u001b[1;33m(\u001b[0m\u001b[1;36m1\u001b[0m\u001b[1;33m-\u001b[0m\u001b[0mtheta\u001b[0m\u001b[1;33m[\u001b[0m\u001b[0mj\u001b[0m\u001b[1;33m]\u001b[0m\u001b[1;33m)\u001b[0m\u001b[1;33m**\u001b[0m\u001b[1;33m(\u001b[0m\u001b[0mn\u001b[0m\u001b[1;33m[\u001b[0m\u001b[0mi\u001b[0m\u001b[1;33m]\u001b[0m\u001b[1;33m-\u001b[0m\u001b[0mk\u001b[0m\u001b[1;33m[\u001b[0m\u001b[0mi\u001b[0m\u001b[1;33m]\u001b[0m\u001b[1;33m)\u001b[0m\u001b[1;33m)\u001b[0m\u001b[1;33m/\u001b[0m\u001b[0mfloat\u001b[0m\u001b[1;33m(\u001b[0m\u001b[0mfact\u001b[0m\u001b[1;33m(\u001b[0m\u001b[0mn\u001b[0m\u001b[1;33m[\u001b[0m\u001b[0mi\u001b[0m\u001b[1;33m]\u001b[0m\u001b[1;33m-\u001b[0m\u001b[0mk\u001b[0m\u001b[1;33m[\u001b[0m\u001b[0mi\u001b[0m\u001b[1;33m]\u001b[0m\u001b[1;33m)\u001b[0m\u001b[1;33m)\u001b[0m\u001b[1;33m)\u001b[0m\u001b[1;33m\u001b[0m\u001b[0m\n\u001b[0;32m     68\u001b[0m \u001b[1;33m\u001b[0m\u001b[0m\n",
      "\u001b[1;31mNameError\u001b[0m: name 'p' is not defined"
     ]
    }
   ],
   "source": [
    "import sys\n",
    "import os\n",
    "from pylab import *\n",
    "import numpy as np\n",
    "import matplotlib.pyplot as plt\n",
    "from math import factorial as fact\n",
    "################################################################\n",
    "# Check the system operating system\n",
    "################################################################\n",
    "\n",
    "sys_exec = str(sys.executable)  # location of the python.exe file\n",
    "sys_os = str(sys.platform)  # os of the machine\n",
    "\n",
    "windows = 'win32'\n",
    "linux1 = 'linux'\n",
    "linux2 = 'linux2'\n",
    "mac = 'darwin'\n",
    "\n",
    "if (sys_os == linux1) or (sys_os == linux2):\n",
    "    print('Linux machine')\n",
    "elif sys_os == windows:\n",
    "    print('Windows machine')\n",
    "else:\n",
    "    print('Mac machine')\n",
    "\n",
    "################################################################\n",
    "# Let the experiment be tossing a coin to analsye the fairness\n",
    "#  of the coin with p := probability that the result is heads\n",
    "# in a given toss of the coin.\n",
    "# Goal: Find posterior probability of unknown for the given\n",
    "# information/ data.\n",
    "\n",
    "# We need to compute likelihood (numerator).\n",
    "# Let's assume that the coin is fair (Prior).\n",
    "# (subjective belief). The denominstor is probabilty of the given\n",
    "# data which is 1 in this example. It is very hard to compute.\n",
    "################################################################\n",
    "\n",
    "################################################################\n",
    "# list of number of trials performed of 4 different experiments\n",
    "\n",
    "n = [1, 10, 50, 100]\n",
    "\n",
    "# list of number of heads observed (number of success) on the\n",
    "# corresponding experiment\n",
    "\n",
    "k = [0, 3, 21, 39]\n",
    "\n",
    "# List constaining values of p (probability of sucess)\n",
    "\n",
    "x = 0.01\n",
    "# empty list for filling prob values\n",
    "theta = []\n",
    "\n",
    "# for loop to create list of values of p (99 values; 98 sub-intervals)\n",
    "\n",
    "for i in range(99):\n",
    "    theta.append(x*(i+1))\n",
    "\n",
    "# Compute Likelihood\n",
    "# empty list for filling posterior values\n",
    "post = []\n",
    "\n",
    "for i in range(len(n)):\n",
    "    post.append([])\n",
    "    for j in range(len(theta)):\n",
    "        post[i].append(0.5*(fact(n[i])*theta[j]**k[i]*(1-theta[j])**(n[i]-k[i]))/float(fact(n[i]-k[i])))\n",
    "\n",
    "# convert list object as numpy array\n",
    "post = np.asarray(post)\n",
    "\n",
    "# Sub-plots of posterior of different experiments\n",
    "\n",
    "fig, axs = plt.subplots(2, 2)\n",
    "fig.suptitle('Posterior')\n",
    "axs[0, 0].plot(theta, post[0], 'r-o')\n",
    "axs[0, 1].plot(theta, post[1], 'g-o')\n",
    "axs[1, 0].plot(theta, post[2], 'b-o')\n",
    "axs[1, 1].plot(theta, post[3], 'k-o')\n",
    "\n",
    "for ax in axs.flat:\n",
    "    ax.set(xlabel=r'$\\theta$', ylabel=r'p($\\theta$|D)')\n",
    "\n",
    "plt.savefig(r'Posterior vs theta')\n",
    "plt.show()\n"
   ]
  },
  {
   "cell_type": "code",
   "execution_count": null,
   "metadata": {},
   "outputs": [],
   "source": []
  },
  {
   "cell_type": "code",
   "execution_count": null,
   "metadata": {},
   "outputs": [],
   "source": []
  },
  {
   "cell_type": "code",
   "execution_count": null,
   "metadata": {},
   "outputs": [],
   "source": []
  },
  {
   "cell_type": "code",
   "execution_count": null,
   "metadata": {},
   "outputs": [],
   "source": []
  }
 ],
 "metadata": {
  "kernelspec": {
   "display_name": "Python 3",
   "language": "python",
   "name": "python3"
  },
  "language_info": {
   "codemirror_mode": {
    "name": "ipython",
    "version": 3
   },
   "file_extension": ".py",
   "mimetype": "text/x-python",
   "name": "python",
   "nbconvert_exporter": "python",
   "pygments_lexer": "ipython3",
   "version": "3.6.5"
  }
 },
 "nbformat": 4,
 "nbformat_minor": 2
}
